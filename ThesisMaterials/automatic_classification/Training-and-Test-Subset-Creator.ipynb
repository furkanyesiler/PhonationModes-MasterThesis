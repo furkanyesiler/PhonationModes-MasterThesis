{
 "cells": [
  {
   "cell_type": "code",
   "execution_count": 1,
   "metadata": {},
   "outputs": [],
   "source": [
    "import os\n",
    "import pandas as pd\n",
    "from sklearn.model_selection import train_test_split"
   ]
  },
  {
   "cell_type": "code",
   "execution_count": 2,
   "metadata": {},
   "outputs": [],
   "source": [
    "FILE_NAME = '' # \"INSERT FILE NAME HERE\"\n",
    "\n",
    "data = pd.read_csv(FILE_NAME)\n",
    "\n",
    "for k in range(0, 10):\n",
    "    X_train, X_test, y_train, y_test = train_test_split(data.iloc[:,:-1], data.iloc[:,-1], test_size=0.1, stratify=data.iloc[:,-1], random_state=k)\n",
    "    if (not os.path.exists('subsets/')):\n",
    "        os.mkdir('subsets/')\n",
    "    pd.concat([X_test,y_test], axis=1).to_csv('subsets/'+ str(k)+'_test.csv', index=False)\n",
    "    pd.concat([X_train,y_train], axis=1).to_csv('subsets/'+ str(k)+'_train.csv', index=False)"
   ]
  }
 ],
 "metadata": {
  "kernelspec": {
   "display_name": "Python 3",
   "language": "python",
   "name": "python3"
  },
  "language_info": {
   "codemirror_mode": {
    "name": "ipython",
    "version": 3
   },
   "file_extension": ".py",
   "mimetype": "text/x-python",
   "name": "python",
   "nbconvert_exporter": "python",
   "pygments_lexer": "ipython3",
   "version": "3.5.2"
  }
 },
 "nbformat": 4,
 "nbformat_minor": 2
}
